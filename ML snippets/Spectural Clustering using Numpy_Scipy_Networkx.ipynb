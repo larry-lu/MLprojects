{
 "cells": [
  {
   "cell_type": "markdown",
   "metadata": {},
   "source": [
    "# Spectural Clustering using Numpy/Scipy/Networkx"
   ]
  },
  {
   "cell_type": "markdown",
   "metadata": {},
   "source": [
    "Graphs are data structures that represent the relationships between individual data points. Each point is represented as a node, and the relationship between any two points is represented by an edge. \n",
    "\n",
    "The spectural clustering is a useful clustering method for graph partitioning that helps us find general patterns within different nodes based on their inter-relationship. "
   ]
  },
  {
   "cell_type": "code",
   "execution_count": 1,
   "metadata": {},
   "outputs": [],
   "source": [
    "import numpy as np\n",
    "import networkx as nx\n",
    "import numpy.linalg as la\n",
    "import scipy.cluster.vq as vq\n",
    "import matplotlib.pyplot as plt\n",
    "\n",
    "%matplotlib inline"
   ]
  },
  {
   "cell_type": "markdown",
   "metadata": {},
   "source": [
    "For demonstration purposes, we use a simulated graph with 100 nodes that is created using the power-law. "
   ]
  },
  {
   "cell_type": "code",
   "execution_count": 45,
   "metadata": {},
   "outputs": [],
   "source": [
    "G = nx.powerlaw_cluster_graph(100, 1, 0.0)\n",
    "coord = nx.spring_layout(G, iterations=1000)"
   ]
  },
  {
   "cell_type": "markdown",
   "metadata": {},
   "source": [
    "Let's visualize the graph."
   ]
  },
  {
   "cell_type": "code",
   "execution_count": 46,
   "metadata": {
    "scrolled": true
   },
   "outputs": [
    {
     "data": {
      "image/png": "[encoded data removed]",
      "text/plain": [
       "<matplotlib.figure.Figure at 0x116a359e8>"
      ]
     },
     "metadata": {},
     "output_type": "display_data"
    }
   ],
   "source": [
    "fig = plt.figure()\n",
    "axs = fig.add_subplot(111, aspect=\"equal\")\n",
    "axs.axis(\"off\")\n",
    "nx.draw_networkx_edges(G, coord) #visualize the edges\n",
    "nx.draw_networkx_nodes(G, coord, node_size=45, node_color=\"k\") #visualize the nodes\n",
    "plt.show()"
   ]
  },
  {
   "cell_type": "markdown",
   "metadata": {},
   "source": [
    "Based on the graph shown above, we can see several clusters. \n",
    "\n",
    "The first step is to create the [adjacency matrix](https://en.wikipedia.org/wiki/Adjacency_matrix) using the [`adjacency_matrix`] function (see [here](https://networkx.github.io/documentation/networkx-1.9/reference/generated/networkx.linalg.graphmatrix.adjacency_matrix.html))."
   ]
  },
  {
   "cell_type": "code",
   "execution_count": 65,
   "metadata": {},
   "outputs": [
    {
     "data": {
      "text/latex": [
       "\n",
       "\\begin{equation}\n",
       "A_{ij} = \n",
       "    \\begin{cases}\n",
       "    1, & \\text{if } (v_i, v_j) \\in E\\\\\n",
       "    0, & \\text{otherwise}\n",
       "    \\end{cases}\n",
       "\\end{equation}"
      ],
      "text/plain": [
       "<IPython.core.display.Latex object>"
      ]
     },
     "metadata": {},
     "output_type": "display_data"
    }
   ],
   "source": [
    "%%latex\n",
    "\n",
    "\\begin{equation}\n",
    "A_{ij} = \n",
    "    \\begin{cases}\n",
    "    1, & \\text{if } (v_i, v_j) \\in E\\\\\n",
    "    0, & \\text{otherwise}\n",
    "    \\end{cases}\n",
    "\\end{equation}"
   ]
  },
  {
   "cell_type": "code",
   "execution_count": 73,
   "metadata": {},
   "outputs": [],
   "source": [
    "A = nx.adjacency_matrix(G)"
   ]
  },
  {
   "cell_type": "markdown",
   "metadata": {},
   "source": [
    "The next step is to calculate the [Laplacian Matrix](https://en.wikipedia.org/wiki/Laplacian_matrix). We first calculate D, which is the [degree matrix](https://en.wikipedia.org/wiki/Degree_matrix), and then the L can be calculated as the subtraction of A from D."
   ]
  },
  {
   "cell_type": "code",
   "execution_count": 72,
   "metadata": {},
   "outputs": [
    {
     "data": {
      "text/latex": [
       "\n",
       "\\begin{equation}\n",
       "D_{ij} = \n",
       "    \\begin{cases}\n",
       "    \\deg(v_i),& \\text{if } i = j\\\\\n",
       "    0, & \\text{otherwise}\n",
       "    \\end{cases}\n",
       "\\end{equation}\n",
       "\n",
       "\\begin{equation}\n",
       "L = D - A\n",
       "\\end{equation}"
      ],
      "text/plain": [
       "<IPython.core.display.Latex object>"
      ]
     },
     "metadata": {},
     "output_type": "display_data"
    }
   ],
   "source": [
    "%%latex\n",
    "\n",
    "\\begin{equation}\n",
    "D_{ij} = \n",
    "    \\begin{cases}\n",
    "    \\deg(v_i),& \\text{if } i = j\\\\\n",
    "    0, & \\text{otherwise}\n",
    "    \\end{cases}\n",
    "\\end{equation}\n",
    "\n",
    "\\begin{equation}\n",
    "L = D - A\n",
    "\\end{equation}"
   ]
  },
  {
   "cell_type": "code",
   "execution_count": 74,
   "metadata": {},
   "outputs": [],
   "source": [
    "D = np.diag(np.ravel(np.sum(A,axis=1)))\n",
    "L = D - A"
   ]
  },
  {
   "cell_type": "markdown",
   "metadata": {},
   "source": [
    "Let's visualize D and L:"
   ]
  },
  {
   "cell_type": "code",
   "execution_count": 77,
   "metadata": {},
   "outputs": [
    {
     "data": {
      "image/png": "[encoded data removed]",
      "text/plain": [
       "<matplotlib.figure.Figure at 0x116aa31d0>"
      ]
     },
     "metadata": {},
     "output_type": "display_data"
    }
   ],
   "source": [
    "plt.imshow(D, cmap='binary')\n",
    "plt.show()"
   ]
  },
  {
   "cell_type": "code",
   "execution_count": 78,
   "metadata": {},
   "outputs": [
    {
     "data": {
      "image/png": "[encoded data removed]",
      "text/plain": [
       "<matplotlib.figure.Figure at 0x116b1f748>"
      ]
     },
     "metadata": {},
     "output_type": "display_data"
    }
   ],
   "source": [
    "plt.imshow(L, cmap='binary')\n",
    "plt.show()"
   ]
  },
  {
   "cell_type": "markdown",
   "metadata": {},
   "source": [
    "Then we use the `numpy.linalg.eigh` function to get the eigen values and eigenvectors of L in ascending order. \n",
    "\n",
    "The second eigenvector (the Fiedler vector) can be achieved as `U[:, 1]` where `U` is the eiven vector matrix."
   ]
  },
  {
   "cell_type": "code",
   "execution_count": 79,
   "metadata": {},
   "outputs": [],
   "source": [
    "l, U = la.eigh(L)\n",
    "f = U[:,1]"
   ]
  },
  {
   "cell_type": "markdown",
   "metadata": {},
   "source": [
    "The Fiedler vector can be used to classify the data into different categories. A simple way is to do a binary classification based on the sign of each value:"
   ]
  },
  {
   "cell_type": "code",
   "execution_count": 81,
   "metadata": {},
   "outputs": [],
   "source": [
    "labels = np.ravel(np.sign(f))"
   ]
  },
  {
   "cell_type": "markdown",
   "metadata": {},
   "source": [
    "Let's plot the classification result."
   ]
  },
  {
   "cell_type": "code",
   "execution_count": 87,
   "metadata": {
    "scrolled": true
   },
   "outputs": [
    {
     "data": {
      "image/png": "[encoded data removed]",
      "text/plain": [
       "<matplotlib.figure.Figure at 0x117edf1d0>"
      ]
     },
     "metadata": {},
     "output_type": "display_data"
    }
   ],
   "source": [
    "fig = plt.figure()\n",
    "axs = fig.add_subplot(111, aspect=\"equal\")\n",
    "axs.axis(\"off\")\n",
    "nx.draw_networkx_edges(G, coord)\n",
    "nx.draw_networkx_nodes(G, coord, node_size=45,node_color=labels)\n",
    "plt.title(\"Two-class based on sign\")\n",
    "plt.show()"
   ]
  },
  {
   "cell_type": "markdown",
   "metadata": {},
   "source": [
    "It's very simple to perform clustering using other methods such as [K-means](https://en.wikipedia.org/wiki/K-means_clustering), and we can specify how many classes to output."
   ]
  },
  {
   "cell_type": "code",
   "execution_count": 89,
   "metadata": {},
   "outputs": [
    {
     "data": {
      "image/png": "[encoded data removed]",
      "text/plain": [
       "<matplotlib.figure.Figure at 0x1180bbf60>"
      ]
     },
     "metadata": {},
     "output_type": "display_data"
    }
   ],
   "source": [
    "k = 3\n",
    "means, labels = vq.kmeans2(U[:,1:k], k)\n",
    "\n",
    "fig = plt.figure()\n",
    "axs = fig.add_subplot(111, aspect=\"equal\")\n",
    "axs.axis(\"off\")\n",
    "nx.draw_networkx_edges(G, coord)\n",
    "nx.draw_networkx_nodes(G, coord, node_size=45,node_color=labels)\n",
    "plt.title(\"3-class using K-means\")\n",
    "plt.show()"
   ]
  },
  {
   "cell_type": "code",
   "execution_count": 95,
   "metadata": {},
   "outputs": [
    {
     "data": {
      "image/png": "[encoded data removed]",
      "text/plain": [
       "<matplotlib.figure.Figure at 0x118767668>"
      ]
     },
     "metadata": {},
     "output_type": "display_data"
    }
   ],
   "source": [
    "k = 4\n",
    "means, labels = vq.kmeans2(U[:,1:k], k)\n",
    "\n",
    "fig = plt.figure()\n",
    "axs = fig.add_subplot(111, aspect=\"equal\")\n",
    "axs.axis(\"off\")\n",
    "nx.draw_networkx_edges(G, coord)\n",
    "nx.draw_networkx_nodes(G, coord, node_size=45,node_color=labels)\n",
    "plt.title(\"4-class using K-means\")\n",
    "plt.show()"
   ]
  },
  {
   "cell_type": "code",
   "execution_count": null,
   "metadata": {},
   "outputs": [],
   "source": []
  }
 ],
 "metadata": {
  "kernelspec": {
   "display_name": "Python 3",
   "language": "python",
   "name": "python3"
  },
  "language_info": {
   "codemirror_mode": {
    "name": "ipython",
    "version": 3
   },
   "file_extension": ".py",
   "mimetype": "text/x-python",
   "name": "python",
   "nbconvert_exporter": "python",
   "pygments_lexer": "ipython3",
   "version": "3.6.3"
  }
 },
 "nbformat": 4,
 "nbformat_minor": 2
}
