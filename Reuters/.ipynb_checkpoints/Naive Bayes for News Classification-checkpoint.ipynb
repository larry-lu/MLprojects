{
 "cells": [
  {
   "cell_type": "markdown",
   "metadata": {},
   "source": [
    "# Naive Bayes classification of news articles\n",
    "\n",
    "Xiaoyu Lu\n",
    "\n",
    "The objective of this assignment is to use the Naive Bayes algorithm to build a classifier to automatically\n",
    "categorize news articles into different topics. I used the Reuter’s dataset (`Reuters-21578`), which include\n",
    "thousands of news article items, each with its own topic label. The data are saved in 22 separate `*.sgm`\n",
    "files. For this assignment, I am only focusing on the below topics:\n",
    "\n",
    "> money, fx, crude, grain, trade, interest, wheat, ship, corn, oil, dlr, gas, oilseed, supply, sugar,gnp, coffee, veg, gold, soybean, bop, livestock, cp\n",
    "\n",
    "The `pyspark` will be used for the entire project. We also use `sklearn` to compare the speed with `pyspark`."
   ]
  },
  {
   "cell_type": "code",
   "execution_count": 1,
   "metadata": {
    "collapsed": true
   },
   "outputs": [],
   "source": [
    "from os import chdir, getcwd\n",
    "from glob import glob\n",
    "import pyspark\n",
    "import numpy as np\n",
    "from bs4 import BeautifulSoup\n",
    "import pandas as pd\n",
    "import time\n",
    "from pyspark.ml.feature import HashingTF, IDF, Tokenizer\n",
    "import re\n",
    "from nltk.corpus import stopwords\n",
    "from nltk.stem.snowball import PorterStemmer, SnowballStemmer"
   ]
  },
  {
   "cell_type": "code",
   "execution_count": 101,
   "metadata": {
    "collapsed": true
   },
   "outputs": [],
   "source": [
    "path = getcwd()\n",
    "chdir(path)"
   ]
  },
  {
   "cell_type": "code",
   "execution_count": 20,
   "metadata": {
    "collapsed": true
   },
   "outputs": [],
   "source": [
    "topic_list = [\"money\", \"fx\", \"crude\", \"grain\", \"trade\", \"interest\", \"wheat\", \n",
    "              \"ship\", \"corn\", \"oil\", \"dlr\", \"gas\", \"oilseed\", \"supply\", \"sugar\", \n",
    "              \"gnp\", \"coffee\", \"veg\", \"gold\", \"soybean\", \"bop\", \"livestock\", \"cpi\"]"
   ]
  },
  {
   "cell_type": "markdown",
   "metadata": {},
   "source": [
    "Below are two functions we will use during this assignment"
   ]
  },
  {
   "cell_type": "code",
   "execution_count": 21,
   "metadata": {
    "collapsed": true
   },
   "outputs": [],
   "source": [
    "def if_topic_in(topic, topic_list = topic_list):\n",
    "    \"\"\"function to determine if each entry belongs to our topic list\n",
    "    ---------------------------------------------\n",
    "    \n",
    "    :param topic: list of many topics of one article\n",
    "    :param topic_list: list of pre-defined topics\n",
    "    \n",
    "    :returns: index of first element in the topic list that belongs to topic_list\n",
    "    \"\"\"\n",
    "    try:\n",
    "        ans = list(set(topic).intersection(topic_list))\n",
    "    except:\n",
    "        ans = \"\"\n",
    "    \n",
    "    return ans"
   ]
  },
  {
   "cell_type": "code",
   "execution_count": 22,
   "metadata": {
    "collapsed": true
   },
   "outputs": [],
   "source": [
    "def cleanbody(text):\n",
    "    \"\"\"function to clean text by removing punctuations, and numbers\n",
    "    ---------------------------------------------\n",
    "    \n",
    "    :param text: a string\n",
    "    \n",
    "    :returns: string with punctuations and numbers removed\n",
    "    \"\"\"\n",
    "    stopwords_set= set(stopwords.words('english'))\n",
    "    stemmer = SnowballStemmer('english')\n",
    "    text = text.replace('\\n',' ').lower().strip()\n",
    "    text = re.sub(\"[^a-zA-Z]+\", \" \", text).split()\n",
    "    text = ' '.join(stemmer.stem(i) for i in text)\n",
    "    stemmed = ' '.join([word for word in text.split() if word not in stopwords_set])\n",
    "    return(stemmed)"
   ]
  },
  {
   "cell_type": "markdown",
   "metadata": {},
   "source": [
    "## 1. Pre-processing the Reuters' dataset (Reuters-21578)\n",
    "\n",
    "For this project we are only interested in articles whose topic falls in the list of:\n",
    "\n",
    "``[\"money\", \"fx\", \"crude\", \"grain\", \"trade\", \"interest\", \"wheat\", \"ship\", \"corn\", \"oil\", \"dlr\", \"gas\", \"oilseed\", \"supply\", \"sugar\", \"gnp\", \"coffee\", \"veg\", \"gold\", \"soybean\", \"bop\", \"livestock\", \"cpi\"]``\n",
    "\n",
    "Some articles are of multiple topics separated by dashlines (e.g. \"money-fx\"). In this case, we will create duplicate articles with each article corresponding to one topic. This will inevitably reduce the accuracy of our output, but we can live with it for this project.\n",
    "\n",
    "We started with parsing through all the (`*.sgm`) files and create a list of all relevant articles as tuples (topic, body). The `BeautifulSoup` library is used for parsing."
   ]
  },
  {
   "cell_type": "code",
   "execution_count": 107,
   "metadata": {
    "collapsed": true
   },
   "outputs": [],
   "source": [
    "f_list = glob('reuters21578/*.sgm')"
   ]
  },
  {
   "cell_type": "code",
   "execution_count": 108,
   "metadata": {
    "scrolled": true
   },
   "outputs": [
    {
     "name": "stdout",
     "output_type": "stream",
     "text": [
      "Start parsing reuters21578/reut2-004.sgm...\n",
      "Start parsing reuters21578/reut2-010.sgm...\n",
      "Start parsing reuters21578/reut2-011.sgm...\n",
      "Start parsing reuters21578/reut2-005.sgm...\n",
      "Start parsing reuters21578/reut2-013.sgm...\n",
      "Start parsing reuters21578/reut2-007.sgm...\n",
      "Start parsing reuters21578/reut2-006.sgm...\n",
      "Start parsing reuters21578/reut2-012.sgm...\n",
      "Start parsing reuters21578/reut2-016.sgm...\n",
      "Start parsing reuters21578/reut2-002.sgm...\n",
      "Start parsing reuters21578/reut2-003.sgm...\n",
      "Start parsing reuters21578/reut2-017.sgm...\n",
      "Start parsing reuters21578/reut2-001.sgm...\n",
      "Start parsing reuters21578/reut2-015.sgm...\n",
      "Start parsing reuters21578/reut2-014.sgm...\n",
      "Start parsing reuters21578/reut2-000.sgm...\n",
      "Start parsing reuters21578/reut2-019.sgm...\n",
      "Start parsing reuters21578/reut2-018.sgm...\n",
      "Start parsing reuters21578/reut2-020.sgm...\n",
      "Start parsing reuters21578/reut2-008.sgm...\n",
      "Start parsing reuters21578/reut2-009.sgm...\n",
      "Start parsing reuters21578/reut2-021.sgm...\n"
     ]
    }
   ],
   "source": [
    "doi_list = list()\n",
    "for filename in f_list:\n",
    "    print('Start parsing {0}...'.format(filename))\n",
    "    file = open(filename, 'rb')\n",
    "    soup = BeautifulSoup(file, 'html.parser')\n",
    "    file.close()\n",
    "    for topic_raw in soup.find_all('topics'):\n",
    "        topic = topic_raw.get_text().split('-')\n",
    "        topic = if_topic_in(topic)\n",
    "        if len(topic) != 0:\n",
    "            body = topic_raw.find_next('body').get_text()\n",
    "            for t in topic:\n",
    "                tb_tup = (t, body)\n",
    "                doi_list.append(tb_tup)\n",
    "    print('Done.')"
   ]
  },
  {
   "cell_type": "code",
   "execution_count": 109,
   "metadata": {},
   "outputs": [
    {
     "name": "stdout",
     "output_type": "stream",
     "text": [
      "A total number of 3625 items were retrieved. Articles with multiple classes are recorded multiple times.\n"
     ]
    },
    {
     "data": {
      "text/html": [
       "<div>\n",
       "<style>\n",
       "    .dataframe thead tr:only-child th {\n",
       "        text-align: right;\n",
       "    }\n",
       "\n",
       "    .dataframe thead th {\n",
       "        text-align: left;\n",
       "    }\n",
       "\n",
       "    .dataframe tbody tr th {\n",
       "        vertical-align: top;\n",
       "    }\n",
       "</style>\n",
       "<table border=\"1\" class=\"dataframe\">\n",
       "  <thead>\n",
       "    <tr style=\"text-align: right;\">\n",
       "      <th></th>\n",
       "      <th>topic</th>\n",
       "      <th>body</th>\n",
       "    </tr>\n",
       "  </thead>\n",
       "  <tbody>\n",
       "    <tr>\n",
       "      <th>0</th>\n",
       "      <td>trade</td>\n",
       "      <td>hous trade lawmak took first vote measur desig...</td>\n",
       "    </tr>\n",
       "    <tr>\n",
       "      <th>1</th>\n",
       "      <td>trade</td>\n",
       "      <td>soviet first deputi prime minist vsevolod mura...</td>\n",
       "    </tr>\n",
       "    <tr>\n",
       "      <th>2</th>\n",
       "      <td>crude</td>\n",
       "      <td>venezuela suppli ecuador yet undetermin amount...</td>\n",
       "    </tr>\n",
       "    <tr>\n",
       "      <th>3</th>\n",
       "      <td>trade</td>\n",
       "      <td>britain today call japan increas foreign impor...</td>\n",
       "    </tr>\n",
       "    <tr>\n",
       "      <th>4</th>\n",
       "      <td>oil</td>\n",
       "      <td>british minist said propos european communiti ...</td>\n",
       "    </tr>\n",
       "  </tbody>\n",
       "</table>\n",
       "</div>"
      ],
      "text/plain": [
       "   topic                                               body\n",
       "0  trade  hous trade lawmak took first vote measur desig...\n",
       "1  trade  soviet first deputi prime minist vsevolod mura...\n",
       "2  crude  venezuela suppli ecuador yet undetermin amount...\n",
       "3  trade  britain today call japan increas foreign impor...\n",
       "4    oil  british minist said propos european communiti ..."
      ]
     },
     "execution_count": 109,
     "metadata": {},
     "output_type": "execute_result"
    }
   ],
   "source": [
    "data = pd.DataFrame(doi_list)\n",
    "data.columns = (['topic', 'body'])\n",
    "data['body'] = data['body'].apply(cleanbody)\n",
    "print('A total number of {0} items were retrieved. Articles with multiple classes are recorded multiple times.'.format(len(data)))\n",
    "data.head()"
   ]
  },
  {
   "cell_type": "markdown",
   "metadata": {},
   "source": [
    "The final output is saved as a `pandas` DataFrame. A total number of 3625 items were retrieved. Articles with multiple topics are recorded multiple times.\n",
    "\n",
    "For convenience, we will save the data as a `.txt` file. The first 10 entries are also saved separately as a `.txt` file"
   ]
  },
  {
   "cell_type": "code",
   "execution_count": 110,
   "metadata": {
    "collapsed": true
   },
   "outputs": [],
   "source": [
    "data.to_csv('training_test_data.txt', index=False)\n",
    "data.loc[0:10].to_csv('top10.txt', index = False)"
   ]
  },
  {
   "cell_type": "markdown",
   "metadata": {},
   "source": [
    "Let's print out the first 10 items. It can be observed that all the plurals, tense-related modifications, and stop words have been removed. "
   ]
  },
  {
   "cell_type": "code",
   "execution_count": 9,
   "metadata": {},
   "outputs": [
    {
     "data": {
      "text/html": [
       "<div>\n",
       "<style>\n",
       "    .dataframe thead tr:only-child th {\n",
       "        text-align: right;\n",
       "    }\n",
       "\n",
       "    .dataframe thead th {\n",
       "        text-align: left;\n",
       "    }\n",
       "\n",
       "    .dataframe tbody tr th {\n",
       "        vertical-align: top;\n",
       "    }\n",
       "</style>\n",
       "<table border=\"1\" class=\"dataframe\">\n",
       "  <thead>\n",
       "    <tr style=\"text-align: right;\">\n",
       "      <th></th>\n",
       "      <th>topic</th>\n",
       "      <th>body</th>\n",
       "    </tr>\n",
       "  </thead>\n",
       "  <tbody>\n",
       "    <tr>\n",
       "      <th>0</th>\n",
       "      <td>trade</td>\n",
       "      <td>hous trade lawmak took first vote measur design toughen u trade law held tomorrow difficult vote controversi plan protect american industri meet close session hous way mean trade subcommitte fail resolv one sensit issu bill whether forc major foreign trade partner sever cut trade surplus unit state subcommitte consid tone version democrat sponsor trade legisl aim open foreign market drop last year effort forc presid reagan retali quota tariff congression aid ask identifi said lawmak intend wrap propos tomorrow consid propos mandat retali without set specif trade penalti legisl face anoth hurdl full way mean committe next week befor full hous vote rep richard gephardt missouri democrat seek parti presidenti nomin said may offer amend call reduct trade surplus countri barrier import u good would moder version earlier plan forc mandatori ten per cent annual cut trade surplus unit state japan south korea taiwan west germani countri largest trade imbal criteria good amend set standard get trade deficit told report trade law chang becom part major congression administr effort turn around record u trade deficit billion dlrs last year open foreign market make u product competit hous speaker jame wright texa democrat said today expect full hous approv trade bill may reagan accept final congression bill expect whatev report way mean committe pass good bill effect bill told report comprehens trade bill includ work committe eas export control high technolog aid u worker displac foreign competit stimul research develop remov foreign trade barrier improv educ worker train lawmak agre first time u industri could charg foreign produc unfair competit deni basic worker right collect bargain safeti rule payment minimum wage appropri countri econom develop transfer u trade repres clayton yeutter power held reagan decid whether retali foreign violat fair trade rule whether injur industri deserv import relief agre make easier compani get temporari relief import competit agre industri provid plan becom competit administr announc support yeutter said yesterday cautious optimist democrat led hous come accept bill reuter</td>\n",
       "    </tr>\n",
       "    <tr>\n",
       "      <th>1</th>\n",
       "      <td>trade</td>\n",
       "      <td>soviet first deputi prime minist vsevolod murakhovski said end brief visit countri want boost joint busi franc reduct franc trade deficit soviet union depend french murakhovski also chairman state agro industri committe gosagroprom told news confer discuss varieti possibl deal french compani rhone poulenc pechiney imec declin put figur possibl contract said discuss plant protect process high sulphur gas rhone poulenc packag technolog agricultur product pechiney fruit veget juic process imec offici pechiney said agreement intent packag could sign soon could give ani detail two compani immedi avail comment ask whether foresaw reduct year franc trade shortfal billion franc first month billion whole murakhovski told reuter depend franc meet pari last januari french soviet foreign trade minist said commit increas effort reduc deficit estim time show french mln franc surplus decemb murakhovski said soviet union prepar talk anybodi interest propos offer latest technolog assur mutual advantag said soviet union mani task ahead would deal rapid propos consid interest encourag compani take advantag new law guarante interest foreign partner joint ventur said agreement yet finalis new joint ventur law said concret deal yet finalis result one billion dollar accord sign moscow last month french businessman jean baptist doumeng said doumeng interagra compani prepar propos examin soviet union doumeng last month said agreement exchang one billion dollar worth good murakhovski said agreement one intent design primarili renew increas soviet union food product capac reuter</td>\n",
       "    </tr>\n",
       "    <tr>\n",
       "      <th>2</th>\n",
       "      <td>crude</td>\n",
       "      <td>venezuela suppli ecuador yet undetermin amount crude oil help meet export commit serious affect last week earthquak energi mine minist arturo hernandez grisanti said gave detail deal said crude oil loan agreement made state oil compani petroleo de venezuela pdvsa ecuador cepe ecuador forc suspend oil export expect four month earthquak damag pipelin oil account per cent export incom hernandez speak report miraflor palac result talk ecuador deputi energi minist fernando santo alvit arriv last night volum lent ecuador would discount opec quota would affect venezuela said would august produc quota sell addit amount ecuador would repay us said elabor quota arrang say ecuador would notifi opec telex venezuela would lend certain amount mani day venezuela opec output quota current million barrel day ecuador set bpd reuter</td>\n",
       "    </tr>\n",
       "    <tr>\n",
       "      <th>3</th>\n",
       "      <td>trade</td>\n",
       "      <td>britain today call japan increas foreign import risk rise protection harm would bring trade nation british trade industri secretari paul channon said japan must heed report issu japanes govern advisori bodi decemb call faster domest demand help cut trade surplus restructur economi recognis strong yen brought problem japan domest economi told group japanes businessmen london short term difficulti allow deflect japan fundament reform necessari said domest issu japan import propens doe expand veri soon real risk protectionist lobbi particular u japan massiv surplus said may well succeed secur action govern would high injuri trade nation like japan u k channon said substanti growth volum trade japan britain amount billion sterl billion dlrs last year ad regrett much one direct japanes sell us billion sterl billion dlrs sold reuter</td>\n",
       "    </tr>\n",
       "    <tr>\n",
       "      <th>4</th>\n",
       "      <td>oil</td>\n",
       "      <td>british minist said propos european communiti tax veget oil fat would rais price fish chip pledg govern would fight lord belstead junior agricultur minist told hous lord tax would rais price raw materi use mani process food pct said revenu rais tax consum call propos repugn reuter</td>\n",
       "    </tr>\n",
       "    <tr>\n",
       "      <th>5</th>\n",
       "      <td>veg</td>\n",
       "      <td>british minist said propos european communiti tax veget oil fat would rais price fish chip pledg govern would fight lord belstead junior agricultur minist told hous lord tax would rais price raw materi use mani process food pct said revenu rais tax consum call propos repugn reuter</td>\n",
       "    </tr>\n",
       "    <tr>\n",
       "      <th>6</th>\n",
       "      <td>money</td>\n",
       "      <td>u treasuri secretari jame baker declin comment februari pari accord six major industri nation agre foster exchang rate stabil ask report speech befor nation fit foundat banquet ani currenc intervent level set pari baker repli never talk intervent baker also declin comment view foreign exchang market reaction accord reuter</td>\n",
       "    </tr>\n",
       "    <tr>\n",
       "      <th>7</th>\n",
       "      <td>fx</td>\n",
       "      <td>u treasuri secretari jame baker declin comment februari pari accord six major industri nation agre foster exchang rate stabil ask report speech befor nation fit foundat banquet ani currenc intervent level set pari baker repli never talk intervent baker also declin comment view foreign exchang market reaction accord reuter</td>\n",
       "    </tr>\n",
       "    <tr>\n",
       "      <th>8</th>\n",
       "      <td>crude</td>\n",
       "      <td>ecuador ask opec rais oil export quota barrel per day compens lost output due last week earthquak deputi energi minist fernando santo alvit said santo alvit arriv caraca last night discuss aid plan ecuador say organis petroleum export countri opec would approach addit output would relat plan discuss venezuela mexico lend ecuador crude repair pipelin damag quak earlier venezuelan energi mine minist aturo hernandez grisanti said countri would suppli unspecifi part ecuador export commit santo alvit told report hope first cargo barrel could leav maracaibo weekend suppli refineri near guayaquil ad ecuador also want make bpd ship caribbean destin mexico might suppli ecuador south korean market ecuador may unabl export oil five month due extens damag mile stretch pipelin link jungl oilfield pacif port balao reuter</td>\n",
       "    </tr>\n",
       "    <tr>\n",
       "      <th>9</th>\n",
       "      <td>crude</td>\n",
       "      <td>china close second round bid foreign firm offshor oil explor right china daili report quot spokesman china nation offshor oil corp cnooc say china sign eight contract foreign firm block pearl river mouth south yellow sea cover total area sq km second round bid began end onli one well far produc result lufeng km south east shenzhen output barrel day well drill group japanes compani spokesman ad cnooc readi enter contract offshor block befor third round bid began say would ad contract would bound restrict impos dure second round china sign oil contract agreement compani countri sinc offshor explor open foreign eleven contract termin oil discov foreign firm invest billion dlrs offshor china sinc reuter</td>\n",
       "    </tr>\n",
       "    <tr>\n",
       "      <th>10</th>\n",
       "      <td>bop</td>\n",
       "      <td>net inflow foreign invest australia jump billion dlrs fourth quarter billion third quarter billion year earlier statist bureau said bureau attribut increas turnaround billion dlrs offici sector transact billion turnaround direct invest turnaround offici transact billion inflow mln outflow third quarter mln inflow year earlier larg account govern foreign currenc borrow said direct invest record turnaround billion dlr inflow fourth quarter mln withdraw third quarter mln inflow fourth quarter bureau said said major part turnaround reflect inject fund estim around mln dlrs associ previous report restructur australian oper general motor corp gm gm use fund pay take certain australian liabil local unit general motor holden ltd said howev net borrow remain major part total inflow account billion dlrs fourth quarter billion third quarter billion year earlier bureau said net offici borrow compris billion dlrs net outflow mln third quarter mln inflow year earlier total privat semi public author net borrow rose billion dlrs billion third quarter billion year earlier reuter</td>\n",
       "    </tr>\n",
       "  </tbody>\n",
       "</table>\n",
       "</div>"
      ],
      "text/plain": [
       "    topic  \\\n",
       "0   trade   \n",
       "1   trade   \n",
       "2   crude   \n",
       "3   trade   \n",
       "4   oil     \n",
       "5   veg     \n",
       "6   money   \n",
       "7   fx      \n",
       "8   crude   \n",
       "9   crude   \n",
       "10  bop     \n",
       "\n",
       "                                                                                                                                                                                                                                                                                                                                                                                                                                                                                                                                                                                                                                                                                                                                                                                                                                                                                                                                                                                                                                                                                                                                                                                                                                                                                                                                                                                                                                                                                                                                                                                                                                                                                                                                                                                                                                                                                                                                                                                                                                                                                                                                                                                                                    body  \n",
       "0   hous trade lawmak took first vote measur design toughen u trade law held tomorrow difficult vote controversi plan protect american industri meet close session hous way mean trade subcommitte fail resolv one sensit issu bill whether forc major foreign trade partner sever cut trade surplus unit state subcommitte consid tone version democrat sponsor trade legisl aim open foreign market drop last year effort forc presid reagan retali quota tariff congression aid ask identifi said lawmak intend wrap propos tomorrow consid propos mandat retali without set specif trade penalti legisl face anoth hurdl full way mean committe next week befor full hous vote rep richard gephardt missouri democrat seek parti presidenti nomin said may offer amend call reduct trade surplus countri barrier import u good would moder version earlier plan forc mandatori ten per cent annual cut trade surplus unit state japan south korea taiwan west germani countri largest trade imbal criteria good amend set standard get trade deficit told report trade law chang becom part major congression administr effort turn around record u trade deficit billion dlrs last year open foreign market make u product competit hous speaker jame wright texa democrat said today expect full hous approv trade bill may reagan accept final congression bill expect whatev report way mean committe pass good bill effect bill told report comprehens trade bill includ work committe eas export control high technolog aid u worker displac foreign competit stimul research develop remov foreign trade barrier improv educ worker train lawmak agre first time u industri could charg foreign produc unfair competit deni basic worker right collect bargain safeti rule payment minimum wage appropri countri econom develop transfer u trade repres clayton yeutter power held reagan decid whether retali foreign violat fair trade rule whether injur industri deserv import relief agre make easier compani get temporari relief import competit agre industri provid plan becom competit administr announc support yeutter said yesterday cautious optimist democrat led hous come accept bill reuter  \n",
       "1   soviet first deputi prime minist vsevolod murakhovski said end brief visit countri want boost joint busi franc reduct franc trade deficit soviet union depend french murakhovski also chairman state agro industri committe gosagroprom told news confer discuss varieti possibl deal french compani rhone poulenc pechiney imec declin put figur possibl contract said discuss plant protect process high sulphur gas rhone poulenc packag technolog agricultur product pechiney fruit veget juic process imec offici pechiney said agreement intent packag could sign soon could give ani detail two compani immedi avail comment ask whether foresaw reduct year franc trade shortfal billion franc first month billion whole murakhovski told reuter depend franc meet pari last januari french soviet foreign trade minist said commit increas effort reduc deficit estim time show french mln franc surplus decemb murakhovski said soviet union prepar talk anybodi interest propos offer latest technolog assur mutual advantag said soviet union mani task ahead would deal rapid propos consid interest encourag compani take advantag new law guarante interest foreign partner joint ventur said agreement yet finalis new joint ventur law said concret deal yet finalis result one billion dollar accord sign moscow last month french businessman jean baptist doumeng said doumeng interagra compani prepar propos examin soviet union doumeng last month said agreement exchang one billion dollar worth good murakhovski said agreement one intent design primarili renew increas soviet union food product capac reuter                                                                                                                                                                                                                                                                                                                                                                                                                                                                                                                                                                            \n",
       "2   venezuela suppli ecuador yet undetermin amount crude oil help meet export commit serious affect last week earthquak energi mine minist arturo hernandez grisanti said gave detail deal said crude oil loan agreement made state oil compani petroleo de venezuela pdvsa ecuador cepe ecuador forc suspend oil export expect four month earthquak damag pipelin oil account per cent export incom hernandez speak report miraflor palac result talk ecuador deputi energi minist fernando santo alvit arriv last night volum lent ecuador would discount opec quota would affect venezuela said would august produc quota sell addit amount ecuador would repay us said elabor quota arrang say ecuador would notifi opec telex venezuela would lend certain amount mani day venezuela opec output quota current million barrel day ecuador set bpd reuter                                                                                                                                                                                                                                                                                                                                                                                                                                                                                                                                                                                                                                                                                                                                                                                                                                                                                                                                                                                                                                                                                                                                                                                                                                                                                                                                                             \n",
       "3   britain today call japan increas foreign import risk rise protection harm would bring trade nation british trade industri secretari paul channon said japan must heed report issu japanes govern advisori bodi decemb call faster domest demand help cut trade surplus restructur economi recognis strong yen brought problem japan domest economi told group japanes businessmen london short term difficulti allow deflect japan fundament reform necessari said domest issu japan import propens doe expand veri soon real risk protectionist lobbi particular u japan massiv surplus said may well succeed secur action govern would high injuri trade nation like japan u k channon said substanti growth volum trade japan britain amount billion sterl billion dlrs last year ad regrett much one direct japanes sell us billion sterl billion dlrs sold reuter                                                                                                                                                                                                                                                                                                                                                                                                                                                                                                                                                                                                                                                                                                                                                                                                                                                                                                                                                                                                                                                                                                                                                                                                                                                                                                                                                \n",
       "4   british minist said propos european communiti tax veget oil fat would rais price fish chip pledg govern would fight lord belstead junior agricultur minist told hous lord tax would rais price raw materi use mani process food pct said revenu rais tax consum call propos repugn reuter                                                                                                                                                                                                                                                                                                                                                                                                                                                                                                                                                                                                                                                                                                                                                                                                                                                                                                                                                                                                                                                                                                                                                                                                                                                                                                                                                                                                                                                                                                                                                                                                                                                                                                                                                                                                                                                                                                                             \n",
       "5   british minist said propos european communiti tax veget oil fat would rais price fish chip pledg govern would fight lord belstead junior agricultur minist told hous lord tax would rais price raw materi use mani process food pct said revenu rais tax consum call propos repugn reuter                                                                                                                                                                                                                                                                                                                                                                                                                                                                                                                                                                                                                                                                                                                                                                                                                                                                                                                                                                                                                                                                                                                                                                                                                                                                                                                                                                                                                                                                                                                                                                                                                                                                                                                                                                                                                                                                                                                             \n",
       "6   u treasuri secretari jame baker declin comment februari pari accord six major industri nation agre foster exchang rate stabil ask report speech befor nation fit foundat banquet ani currenc intervent level set pari baker repli never talk intervent baker also declin comment view foreign exchang market reaction accord reuter                                                                                                                                                                                                                                                                                                                                                                                                                                                                                                                                                                                                                                                                                                                                                                                                                                                                                                                                                                                                                                                                                                                                                                                                                                                                                                                                                                                                                                                                                                                                                                                                                                                                                                                                                                                                                                                                                   \n",
       "7   u treasuri secretari jame baker declin comment februari pari accord six major industri nation agre foster exchang rate stabil ask report speech befor nation fit foundat banquet ani currenc intervent level set pari baker repli never talk intervent baker also declin comment view foreign exchang market reaction accord reuter                                                                                                                                                                                                                                                                                                                                                                                                                                                                                                                                                                                                                                                                                                                                                                                                                                                                                                                                                                                                                                                                                                                                                                                                                                                                                                                                                                                                                                                                                                                                                                                                                                                                                                                                                                                                                                                                                   \n",
       "8   ecuador ask opec rais oil export quota barrel per day compens lost output due last week earthquak deputi energi minist fernando santo alvit said santo alvit arriv caraca last night discuss aid plan ecuador say organis petroleum export countri opec would approach addit output would relat plan discuss venezuela mexico lend ecuador crude repair pipelin damag quak earlier venezuelan energi mine minist aturo hernandez grisanti said countri would suppli unspecifi part ecuador export commit santo alvit told report hope first cargo barrel could leav maracaibo weekend suppli refineri near guayaquil ad ecuador also want make bpd ship caribbean destin mexico might suppli ecuador south korean market ecuador may unabl export oil five month due extens damag mile stretch pipelin link jungl oilfield pacif port balao reuter                                                                                                                                                                                                                                                                                                                                                                                                                                                                                                                                                                                                                                                                                                                                                                                                                                                                                                                                                                                                                                                                                                                                                                                                                                                                                                                                                                    \n",
       "9   china close second round bid foreign firm offshor oil explor right china daili report quot spokesman china nation offshor oil corp cnooc say china sign eight contract foreign firm block pearl river mouth south yellow sea cover total area sq km second round bid began end onli one well far produc result lufeng km south east shenzhen output barrel day well drill group japanes compani spokesman ad cnooc readi enter contract offshor block befor third round bid began say would ad contract would bound restrict impos dure second round china sign oil contract agreement compani countri sinc offshor explor open foreign eleven contract termin oil discov foreign firm invest billion dlrs offshor china sinc reuter                                                                                                                                                                                                                                                                                                                                                                                                                                                                                                                                                                                                                                                                                                                                                                                                                                                                                                                                                                                                                                                                                                                                                                                                                                                                                                                                                                                                                                                                                  \n",
       "10  net inflow foreign invest australia jump billion dlrs fourth quarter billion third quarter billion year earlier statist bureau said bureau attribut increas turnaround billion dlrs offici sector transact billion turnaround direct invest turnaround offici transact billion inflow mln outflow third quarter mln inflow year earlier larg account govern foreign currenc borrow said direct invest record turnaround billion dlr inflow fourth quarter mln withdraw third quarter mln inflow fourth quarter bureau said said major part turnaround reflect inject fund estim around mln dlrs associ previous report restructur australian oper general motor corp gm gm use fund pay take certain australian liabil local unit general motor holden ltd said howev net borrow remain major part total inflow account billion dlrs fourth quarter billion third quarter billion year earlier bureau said net offici borrow compris billion dlrs net outflow mln third quarter mln inflow year earlier total privat semi public author net borrow rose billion dlrs billion third quarter billion year earlier reuter                                                                                                                                                                                                                                                                                                                                                                                                                                                                                                                                                                                                                                                                                                                                                                                                                                                                                                                                                                                                                                                                                                "
      ]
     },
     "execution_count": 9,
     "metadata": {},
     "output_type": "execute_result"
    }
   ],
   "source": [
    "data_top10"
   ]
  },
  {
   "cell_type": "markdown",
   "metadata": {
    "collapsed": true
   },
   "source": [
    "## 2. TF-IDF transformation in `sklearn`"
   ]
  },
  {
   "cell_type": "code",
   "execution_count": 2,
   "metadata": {
    "collapsed": true
   },
   "outputs": [],
   "source": [
    "from sklearn.feature_extraction.text import TfidfVectorizer, TfidfTransformer, CountVectorizer\n",
    "from sklearn.preprocessing import LabelEncoder\n",
    "from sklearn.model_selection import train_test_split\n",
    "from sklearn.naive_bayes import MultinomialNB\n",
    "from nltk.tokenize import RegexpTokenizer"
   ]
  },
  {
   "cell_type": "code",
   "execution_count": 10,
   "metadata": {
    "collapsed": true
   },
   "outputs": [],
   "source": [
    "data = pd.read_csv('training_test_data.txt',index_col=None)"
   ]
  },
  {
   "cell_type": "code",
   "execution_count": 11,
   "metadata": {},
   "outputs": [
    {
     "name": "stdout",
     "output_type": "stream",
     "text": [
      "sklearn TFIDF processing time: 0.37128 s\n"
     ]
    }
   ],
   "source": [
    "body_list = list(data['body'])\n",
    "start = time.clock()\n",
    "vectorizer = TfidfVectorizer()\n",
    "vectorizer.fit(data['body'])\n",
    "print (\"sklearn TFIDF processing time: {0:.5f} s\".format(time.clock() - start))"
   ]
  },
  {
   "cell_type": "markdown",
   "metadata": {},
   "source": [
    "## 3. TF-IDF transformation in `pyspark`"
   ]
  },
  {
   "cell_type": "code",
   "execution_count": 3,
   "metadata": {
    "collapsed": true
   },
   "outputs": [],
   "source": [
    "from pyspark.sql import SparkSession\n",
    "from pyspark.sql import Column\n",
    "from pyspark.sql.types import *\n",
    "from pyspark.sql.functions import udf\n",
    "from pyspark.ml.feature import HashingTF, IDF, OneHotEncoder, StringIndexer\n",
    "from pyspark.ml.classification import NaiveBayes\n",
    "\n",
    "path = getcwd()\n",
    "chdir(path)\n",
    "\n",
    "spark = SparkSession\\\n",
    "        .builder\\\n",
    "        .appName(\"NewsClassification\")\\\n",
    "        .getOrCreate()\n",
    "\n",
    "df = spark.read.csv(\"training_test_data.txt\",header=True,inferSchema=True)"
   ]
  },
  {
   "cell_type": "markdown",
   "metadata": {},
   "source": [
    "Below is a udf (user defined function) that split the body text. The lines directly beneath applies the funciton to the `body` column meanwhile change the type to `ArrayType`."
   ]
  },
  {
   "cell_type": "code",
   "execution_count": 4,
   "metadata": {
    "collapsed": true
   },
   "outputs": [],
   "source": [
    "def text_split(text):\n",
    "    \"\"\"\n",
    "    user-defined funtion to split the text\n",
    "    \"\"\"\n",
    "    text = text.split()\n",
    "    return text"
   ]
  },
  {
   "cell_type": "code",
   "execution_count": 5,
   "metadata": {
    "collapsed": true
   },
   "outputs": [],
   "source": [
    "clean_udf = udf(text_split, ArrayType(StringType()))\n",
    "df = df.withColumn(\"body\", clean_udf(\"body\"))"
   ]
  },
  {
   "cell_type": "code",
   "execution_count": 6,
   "metadata": {
    "scrolled": true
   },
   "outputs": [
    {
     "name": "stdout",
     "output_type": "stream",
     "text": [
      "pyspark TFIDF processing time: 0.01982 s\n"
     ]
    }
   ],
   "source": [
    "#following section transforms the text using TFIDF\n",
    "start = time.clock()\n",
    "hashingTF = HashingTF(inputCol=\"body\", outputCol=\"term_freq\")\n",
    "df = hashingTF.transform(df)\n",
    "idf = IDF(inputCol=\"term_freq\", outputCol=\"tfidf\")\n",
    "idfModel = idf.fit(df)\n",
    "df = idfModel.transform(df)\n",
    "print (\"pyspark TFIDF processing time: {0:.5f} s\".format(time.clock() - start))"
   ]
  },
  {
   "cell_type": "markdown",
   "metadata": {},
   "source": [
    "## 4. Building a Naive Bayes Classifier\n",
    "\n",
    "The first step is to convert the topics (nominal) to a list of discrete integers"
   ]
  },
  {
   "cell_type": "code",
   "execution_count": 7,
   "metadata": {
    "collapsed": true
   },
   "outputs": [],
   "source": [
    "#Using the OneHotEncoder to convert the topics into discrete integers\n",
    "stringIndexer = StringIndexer(inputCol=\"topic\", outputCol=\"topicIndex\")\n",
    "model = stringIndexer.fit(df)\n",
    "indexed = model.transform(df)"
   ]
  },
  {
   "cell_type": "markdown",
   "metadata": {},
   "source": [
    "The entire dataset will be split 3 ways into the training/test/cross-evaluation set, and 3 different split proportions (`50/40/10`, `60/30/10`, and `70/20/10`) were used. The Naive Bayes classfier was trained, and for each split condition our model will train 10 times to evaluate the sensitivity of the model.\n",
    "\n",
    "A total number of 30 models will be trained, and their parameters and accuracy are stored as key-value pairs in a dictionary."
   ]
  },
  {
   "cell_type": "code",
   "execution_count": 8,
   "metadata": {
    "collapsed": true
   },
   "outputs": [],
   "source": [
    "val_dict = dict()\n",
    "train_test_cv_split_params = {'50/40/10': [0.5, 0.4, 0.1],\n",
    "                               '60/30/10': [0.6, 0.3, 0.1], \n",
    "                               '70/20/10': [0.7, 0.2, 0.1]}\n",
    "\n",
    "for split_param in train_test_cv_split_params.keys(): #run the model for each train/test/cv split\n",
    "    for seed in np.arange(10): #run each model 10 times using different random seed\n",
    "        train,test,cv = indexed.select(\"tfidf\",\"topicIndex\").randomSplit(train_test_cv_split_params[split_param],seed=seed)\n",
    "\n",
    "        #Naive bayes\n",
    "        nb = NaiveBayes(featuresCol=\"tfidf\", labelCol=\"topicIndex\", predictionCol=\"NB_pred\",\n",
    "                        probabilityCol=\"NB_prob\", rawPredictionCol=\"NB_rawPred\")\n",
    "        nbModel = nb.fit(train)\n",
    "        cv = nbModel.transform(cv)\n",
    "        total = cv.count()\n",
    "        correct = cv.where(test['topicIndex'] == cv['NB_pred']).count()\n",
    "        accuracy = correct/total\n",
    "        val_dict[(split_param, seed)] = accuracy"
   ]
  },
  {
   "cell_type": "code",
   "execution_count": 9,
   "metadata": {},
   "outputs": [
    {
     "name": "stdout",
     "output_type": "stream",
     "text": [
      "The combination of parameters that produced the highest accuracy (0.52): train/test/cv split ratio: 70/20/10, randomseed: 5\n"
     ]
    }
   ],
   "source": [
    "params = max(val_dict, key = val_dict.get)\n",
    "print(\"The combination of parameters that produced the highest accuracy ({0:.2f}): train/test/cv split ratio: {1}, randomseed: {2}\".format(max(val_dict.values()),params[0], params[1]))"
   ]
  },
  {
   "cell_type": "code",
   "execution_count": 13,
   "metadata": {
    "collapsed": true
   },
   "outputs": [],
   "source": [
    "def meancal(val_dict, split_param):\n",
    "    l = list()\n",
    "    for i in val_dict.keys():\n",
    "        if i[0] == split_param:\n",
    "            l.append(val_dict[i])\n",
    "    lmean = np.mean(l)\n",
    "    lstd = np.std(l)\n",
    "    return (lmean, lstd)"
   ]
  },
  {
   "cell_type": "code",
   "execution_count": 16,
   "metadata": {},
   "outputs": [
    {
     "name": "stdout",
     "output_type": "stream",
     "text": [
      "The mean accuracy of the 30 models: 0.491\n",
      "The split condition 50/40/10 has a mean accuracy of 0.481\n",
      "The st.d. of split condition 50/40/10 for 10 runs: 0.013\n",
      "The split condition 60/30/10 has a mean accuracy of 0.495\n",
      "The st.d. of split condition 60/30/10 for 10 runs: 0.013\n",
      "The split condition 70/20/10 has a mean accuracy of 0.498\n",
      "The st.d. of split condition 70/20/10 for 10 runs: 0.012\n"
     ]
    }
   ],
   "source": [
    "print('The mean accuracy of the 30 models: {0:.3f}'.format(np.mean(list(val_dict.values()))))\n",
    "\n",
    "for split_param in train_test_cv_split_params:\n",
    "    mean_accuracy, std_accuracy = meancal(val_dict, split_param)\n",
    "    print('The split condition {0} has a mean accuracy of {1:.3f}'.format(split_param, mean_accuracy))\n",
    "    print('The st.d. of split condition {0} for 10 runs: {1:.3f}'.format(split_param, std_accuracy))"
   ]
  },
  {
   "cell_type": "markdown",
   "metadata": {},
   "source": [
    "Generally, the accuracy of the model increases as we have a higher proportion of training data. In our case the highest performing model was produced with a split of `70/20/10` with a mean accuracy of 0.498. The `70/20/10` split also produces the lowest st.d., therefore it is less sensitive to the split of the data compared to the other two. It is possible that if we increase the size of the training data, we will increase the model accuracy.\n",
    "\n"
   ]
  },
  {
   "cell_type": "markdown",
   "metadata": {
    "collapsed": true
   },
   "source": [
    "For this assignment, I built a simple Naive Bayes classifier to classify articles based on the topics. As the\n",
    "result suggests, when using the highest percent of data for training, the model produced the highest accuracy.\n",
    "A possible future development might be to gather more data to see if the accuracy improves.\n",
    "\n",
    "Only a limited number of topics were used for this assignment. It would be interesting to see what the\n",
    "model performance will be when more topics are used. Also, we only used single topic for each article\n",
    "entry, without considering multi-labeled articles.\n",
    "\n",
    "Last, I trained the model based on the TFIDF result created using the cleaned text. I did not consider\n",
    "the combination of multiple words and their influence to the model. `Ngram` provides such capability, and it\n",
    "would be interesting to see if the model improves."
   ]
  },
  {
   "cell_type": "code",
   "execution_count": null,
   "metadata": {
    "collapsed": true
   },
   "outputs": [],
   "source": []
  }
 ],
 "metadata": {
  "kernelspec": {
   "display_name": "Python 3",
   "language": "python",
   "name": "python3"
  },
  "language_info": {
   "codemirror_mode": {
    "name": "ipython",
    "version": 3
   },
   "file_extension": ".py",
   "mimetype": "text/x-python",
   "name": "python",
   "nbconvert_exporter": "python",
   "pygments_lexer": "ipython3",
   "version": "3.6.3"
  }
 },
 "nbformat": 4,
 "nbformat_minor": 2
}
