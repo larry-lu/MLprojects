{
 "cells": [
  {
   "cell_type": "markdown",
   "metadata": {},
   "source": [
    "# Large-scale Matrix Factorization for Music Recommendations\n",
    "\n",
    "Xiaoyu Lu\n",
    "\n",
    "The objective of this assignment is to predict personalized music recommendations based on the users' ratings of the music. I used the last.fm dataset, which include a main file of more than 140000 users, 1.5 million unique artists and 24 million users' information regarding how often they played a give song/artist. We also have supplementary files which have the names of artists and artists IDs."
   ]
  },
  {
   "cell_type": "code",
   "execution_count": 6,
   "metadata": {},
   "outputs": [],
   "source": [
    "from os import chdir, getcwd\n",
    "from glob import glob\n",
    "import numpy as np\n",
    "import pyspark\n",
    "import matplotlib.pyplot as plt\n",
    "from pyspark import SparkContext\n",
    "from pyspark.mllib.recommendation import ALS, MatrixFactorizationModel, Rating\n",
    "\n",
    "%matplotlib inline"
   ]
  },
  {
   "cell_type": "code",
   "execution_count": 11,
   "metadata": {},
   "outputs": [],
   "source": [
    "path = getcwd()\n",
    "path = path+'\\\\RecommenderData\\\\Recommender 2\\\\'\n",
    "chdir(path)"
   ]
  },
  {
   "cell_type": "code",
   "execution_count": 13,
   "metadata": {},
   "outputs": [],
   "source": [
    "sc = SparkContext()"
   ]
  },
  {
   "cell_type": "code",
   "execution_count": 113,
   "metadata": {},
   "outputs": [],
   "source": [
    "userartist = sc.textFile('user_artist_data_small.txt')#.map(lambda x: x.split(' '))\n",
    "alias = sc.textFile('artist_alias_small.txt').map(lambda x: x.split('\\t'))\n",
    "artist = sc.textFile(\"artist_data_small.txt\").map(lambda x: x.split('\\t'))"
   ]
  },
  {
   "cell_type": "code",
   "execution_count": 39,
   "metadata": {},
   "outputs": [],
   "source": [
    "alias = sc.textFile('artist_alias_small.txt')"
   ]
  },
  {
   "cell_type": "code",
   "execution_count": 40,
   "metadata": {},
   "outputs": [],
   "source": [
    "alias = alias.map(lambda x:(x.split(\"\\t\")[0], x.split(\"\\t\")[1]))"
   ]
  },
  {
   "cell_type": "code",
   "execution_count": 92,
   "metadata": {},
   "outputs": [],
   "source": [
    "alias_dict = alias.collectAsMap()\n",
    "artist_dict = artist.collectAsMap()"
   ]
  },
  {
   "cell_type": "code",
   "execution_count": 154,
   "metadata": {},
   "outputs": [
    {
     "data": {
      "text/plain": [
       "[['1059637', '1000010', 'Aerosmith', '238'],\n",
       " ['1059637', '1000049', \"Edna's Goldfish\", '1'],\n",
       " ['1059637', '1000056', 'The Mighty Mighty Bosstones', '1'],\n",
       " ['1059637', '1000062', 'Foo Fighters', '11'],\n",
       " ['1059637', '1000094', 'The Bouncing Souls', '1'],\n",
       " ['1059637', '1000112', 'Alkaline Trio', '423'],\n",
       " ['1059637', '1000113', 'The Beatles', '5'],\n",
       " ['1059637', '1000114', 'Pennywise', '2'],\n",
       " ['1059637', '1000123', 'Incubus', '2'],\n",
       " ['1059637', '1000130', 'Bright Eyes', '19129'],\n",
       " ['1059637', '1000139', 'Muse', '4'],\n",
       " ['1059637', '1000241', 'Jason Mraz', '188'],\n",
       " ['1059637', '1000263', 'Jimmy Eat World', '180'],\n",
       " ['1059637', '1000289', 'Meat Loaf', '2'],\n",
       " ['1059637', '1000305', 'The Lightning Seeds', '1'],\n",
       " ['1059637', '1000320', 'MxPx', '21'],\n",
       " ['1059637', '1000340', 'At the Drive-In', '1'],\n",
       " ['1059637', '1000427', 'New Found Glory', '20'],\n",
       " ['1059637', '1000428', 'Blind Melon', '12'],\n",
       " ['1059637', '1000433', 'Chicago', '10'],\n",
       " ['1059637', '1000445', 'Hoobastank', '88'],\n",
       " ['1059637', '1000527', 'Loreena McKennitt', '1'],\n",
       " ['1059637', '1000617', 'Moulin Rouge', '4'],\n",
       " ['1059637', '1000632', 'Goo Goo Dolls', '250'],\n",
       " ['1059637', '1000676', 'Spin Doctors', '3'],\n",
       " ['1059637', '1000790', 'Dave Matthews Band', '18'],\n",
       " ['1059637', '1000877', 'Cast', '1'],\n",
       " ['1059637', '1000890', 'Mundy', '1'],\n",
       " ['1059637', '1000926', 'Ben Kweller', '1'],\n",
       " ['1059637', '1000999', 'Wham!', '22']]"
      ]
     },
     "execution_count": 154,
     "metadata": {},
     "output_type": "execute_result"
    }
   ],
   "source": [
    "userartist = sc.textFile('user_artist_data_small.txt')\n",
    "alias_dict = alias.collectAsMap()\n",
    "artist_dict = artist.collectAsMap()\n",
    "\n",
    "def preprocess(line):\n",
    "    records = line.split(' ')\n",
    "    if records[1] in alias_dict.keys():\n",
    "        records[1] = alias_dict[records[1]]\n",
    "    records.insert(2, artist_dict[records[1]])\n",
    "    return(records)\n",
    "\n",
    "userartist = userartist.map(preprocess)\n",
    "userartist.take(30)"
   ]
  }
 ],
 "metadata": {
  "kernelspec": {
   "display_name": "Python 3",
   "language": "python",
   "name": "python3"
  },
  "language_info": {
   "codemirror_mode": {
    "name": "ipython",
    "version": 3
   },
   "file_extension": ".py",
   "mimetype": "text/x-python",
   "name": "python",
   "nbconvert_exporter": "python",
   "pygments_lexer": "ipython3",
   "version": "3.6.4"
  }
 },
 "nbformat": 4,
 "nbformat_minor": 2
}
