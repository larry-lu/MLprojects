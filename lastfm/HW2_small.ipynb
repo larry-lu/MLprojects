{
 "cells": [
  {
   "cell_type": "markdown",
   "metadata": {},
   "source": [
    "# Large-scale Matrix Factorization for Music Recommendations\n",
    "\n",
    "Xiaoyu Lu\n",
    "\n",
    "The objective of this assignment is to predict personalized music recommendations based on the users' ratings of the music. I used the last.fm dataset, which include a main file of more than 140000 users, 1.5 million unique artists and 24 million users' information regarding how often they played a give song/artist. We also have supplementary files which have the names of artists and artists IDs."
   ]
  },
  {
   "cell_type": "code",
   "execution_count": 2,
   "metadata": {},
   "outputs": [],
   "source": [
    "from os import chdir, getcwd\n",
    "from glob import glob\n",
    "import numpy as np\n",
    "import pyspark\n",
    "import matplotlib.pyplot as plt\n",
    "from pyspark import SparkContext\n",
    "from pyspark.mllib.recommendation import ALS, MatrixFactorizationModel, Rating\n",
    "from pyspark.mllib.stat import Statistics\n",
    "\n",
    "%matplotlib inline"
   ]
  },
  {
   "cell_type": "code",
   "execution_count": 3,
   "metadata": {},
   "outputs": [],
   "source": [
    "path = getcwd()\n",
    "path = path+'\\\\RecommenderData\\\\Recommender 2\\\\'\n",
    "#path = path+'\\\\music_recommender\\\\music_recommender\\\\data'\n",
    "chdir(path)"
   ]
  },
  {
   "cell_type": "code",
   "execution_count": 4,
   "metadata": {},
   "outputs": [],
   "source": [
    "sc = SparkContext()"
   ]
  },
  {
   "cell_type": "markdown",
   "metadata": {},
   "source": [
    "The first step is to load the data. The dataset we will be using is distributed by `last.fm` in 2005. Instead of using the entire dataset that has over 140,000 users, 1.5 million unique artists and roughly 24 million users’ information about how often they played a given song/artist, in this tutorial I only use a subset of the dataset, since training the recommendation system means we will have a huge sparse matrix, which requires too much memory this desktop (\"only\" 32 gb) can handle.\n",
    "\n",
    "\n",
    "The main dataset is the `user_artist_data_small.txt` file. It contains three columns including user ID, artist ID, and how many times each artist has been played by a specific user. The dataset also gives the names of each artist by ID in the `artist_data.txt file`. When the data was recorded, the names of the artists could be misspelled or non-standard, and this can be detected only later. For example, ‘The Smiths,’ ‘Smiths The’ and ‘he smiths’ may appear as distinct artist IDs, but they refer to the same artist. So, the dataset also includes artist `alias.txt` dataset, which maps the artist IDs that are known to be misspelled or variants to the canonical ID of the artist."
   ]
  },
  {
   "cell_type": "code",
   "execution_count": 6,
   "metadata": {},
   "outputs": [],
   "source": [
    "alias = sc.textFile('artist_alias_small.txt').map(lambda x: x.split('\\t'))\n",
    "artist = sc.textFile(\"artist_data_small.txt\").map(lambda x: x.split('\\t'))"
   ]
  },
  {
   "cell_type": "code",
   "execution_count": 7,
   "metadata": {},
   "outputs": [],
   "source": [
    "alias_dict = alias.collectAsMap()\n",
    "artist_dict = artist.collectAsMap()"
   ]
  },
  {
   "cell_type": "markdown",
   "metadata": {},
   "source": [
    "alias_dict and artist_dict are two dictionaries that are converted from the paired-rdds. This helps with future processing to map artists' real names to their IDs."
   ]
  },
  {
   "cell_type": "code",
   "execution_count": 9,
   "metadata": {},
   "outputs": [],
   "source": [
    "userartist = sc.textFile('user_artist_data_small.txt')\n",
    "alias_dict = alias.collectAsMap()\n",
    "artist_dict = artist.collectAsMap()\n",
    "\n",
    "def replace_alias(line):\n",
    "    records = line.split(' ')\n",
    "    if records[1] in alias_dict.keys():\n",
    "        records[1] = alias_dict[records[1]]\n",
    "    return(records)\n",
    "\n",
    "userartist = userartist.map(replace_alias)"
   ]
  },
  {
   "cell_type": "markdown",
   "metadata": {},
   "source": [
    "replace_alias is a user defined function to replace wrong IDs of artists with their true ones that are in alias_dict."
   ]
  },
  {
   "cell_type": "code",
   "execution_count": 8,
   "metadata": {},
   "outputs": [
    {
     "name": "stdout",
     "output_type": "stream",
     "text": [
      "ID meets requirement.\n",
      "length of cleaned data: 49481\n",
      "First 10 items: [['1059637', '1000010', 'Aerosmith', 238.0], ['1059637', '1000049', \"Edna's Goldfish\", 1.0], ['1059637', '1000056', 'The Mighty Mighty Bosstones', 1.0], ['1059637', '1000062', 'Foo Fighters', 11.0], ['1059637', '1000094', 'The Bouncing Souls', 1.0], ['1059637', '1000112', 'Alkaline Trio', 423.0], ['1059637', '1000113', 'The Beatles', 5.0], ['1059637', '1000114', 'Pennywise', 2.0], ['1059637', '1000123', 'Incubus', 2.0], ['1059637', '1000130', 'Bright Eyes', 19129.0]]\n"
     ]
    }
   ],
   "source": [
    "summary = Statistics.colStats(userartist)\n",
    "maxID_UA = summary.max()[:2]\n",
    "\n",
    "if np.any(maxID_UA) > 2147483647:\n",
    "    print('Max ID greater than limitation.')\n",
    "else:\n",
    "    print('ID meets requirement.')\n",
    "    \n",
    "def add_artist(line):\n",
    "    line.insert(2, artist_dict[line[1]])\n",
    "    return(line)\n",
    "\n",
    "userartist = userartist.map(lambda x: [x[0], x[1], float(x[2])])\n",
    "print (\"length of cleaned data:\", userartist.count())\n",
    "\n",
    "userartist_name = userartist.map(add_artist)\n",
    "print(\"First 10 items:\", userartist_name.take(10))"
   ]
  },
  {
   "cell_type": "markdown",
   "metadata": {},
   "source": [
    "The maximum value of the ID is less than 2147483647, the largest numerical value that we can handle. So we are all set.\n",
    "\n",
    "First, let's take a look at the first 10 items in the userartist RDD."
   ]
  },
  {
   "cell_type": "code",
   "execution_count": 9,
   "metadata": {
    "scrolled": true
   },
   "outputs": [
    {
     "data": {
      "text/plain": [
       "[['1059637', '1000010', 238.0],\n",
       " ['1059637', '1000049', 1.0],\n",
       " ['1059637', '1000056', 1.0],\n",
       " ['1059637', '1000062', 11.0],\n",
       " ['1059637', '1000094', 1.0],\n",
       " ['1059637', '1000112', 423.0],\n",
       " ['1059637', '1000113', 5.0],\n",
       " ['1059637', '1000114', 2.0],\n",
       " ['1059637', '1000123', 2.0],\n",
       " ['1059637', '1000130', 19129.0]]"
      ]
     },
     "execution_count": 9,
     "metadata": {},
     "output_type": "execute_result"
    }
   ],
   "source": [
    "userartist.take(10)"
   ]
  },
  {
   "cell_type": "markdown",
   "metadata": {},
   "source": [
    "It can be seen that the user IDs and artist IDs are all strings. To train the model, we need to convert these strings to integers. "
   ]
  },
  {
   "cell_type": "code",
   "execution_count": 10,
   "metadata": {},
   "outputs": [],
   "source": [
    "users = userartist.map(lambda x: x[0]).distinct().zipWithIndex()\n",
    "artists = userartist.map(lambda x: x[1]).distinct().zipWithIndex()"
   ]
  },
  {
   "cell_type": "markdown",
   "metadata": {},
   "source": [
    "The users and artists are two rdds that stores the key-value pairs of the ID of user/artist and their corresponding index as an integer. Let's take a look at the first 10 items in the users RDD."
   ]
  },
  {
   "cell_type": "code",
   "execution_count": 11,
   "metadata": {
    "scrolled": true
   },
   "outputs": [
    {
     "data": {
      "text/plain": [
       "[('1059637', 0),\n",
       " ('2069337', 1),\n",
       " ('2023977', 2),\n",
       " ('1046559', 3),\n",
       " ('1052461', 4),\n",
       " ('2020513', 5),\n",
       " ('2062243', 6),\n",
       " ('1001440', 7),\n",
       " ('2017397', 8),\n",
       " ('1024631', 9)]"
      ]
     },
     "execution_count": 11,
     "metadata": {},
     "output_type": "execute_result"
    }
   ],
   "source": [
    "users.take(10)"
   ]
  },
  {
   "cell_type": "markdown",
   "metadata": {},
   "source": [
    "Let's now map the indices of users and artist to the original dataset. "
   ]
  },
  {
   "cell_type": "code",
   "execution_count": null,
   "metadata": {},
   "outputs": [],
   "source": [
    "userartist = userartist.map(lambda r: (r[0], (r[1], r[2]))).join(users).map(lambda r: (r[1][1], r[1][0][0], r[1][0][1]))\n",
    "userartist = userartist.map(lambda r: (r[1], (r[0], r[2]))).join(artists).map(lambda r: (r[1][0][0], r[1][1], r[1][0][1]))"
   ]
  },
  {
   "cell_type": "markdown",
   "metadata": {},
   "source": [
    "After the mapping, the data now has three columns, including user index, artist index, and how many times the artist has been played by the user. Let's take a look."
   ]
  },
  {
   "cell_type": "code",
   "execution_count": 13,
   "metadata": {
    "scrolled": false
   },
   "outputs": [
    {
     "data": {
      "text/plain": [
       "[(1, 1, 15177.0),\n",
       " (7, 1, 3.0),\n",
       " (18, 1, 9.0),\n",
       " (21, 1, 6.0),\n",
       " (23, 1, 1.0),\n",
       " (25, 1, 22.0),\n",
       " (47, 1, 364.0),\n",
       " (0, 1, 1.0),\n",
       " (12, 1, 67.0),\n",
       " (16, 1, 116.0)]"
      ]
     },
     "execution_count": 13,
     "metadata": {},
     "output_type": "execute_result"
    }
   ],
   "source": [
    "userartist.take(10)"
   ]
  },
  {
   "cell_type": "markdown",
   "metadata": {},
   "source": [
    "We will convert the format of each column to int, int, and float. Also use the Rating function to convert the RDD to a Rating class, which is required by the Absolute Least Squares (ALS) function in spark."
   ]
  },
  {
   "cell_type": "code",
   "execution_count": 15,
   "metadata": {
    "scrolled": true
   },
   "outputs": [],
   "source": [
    "userartist = userartist.map(lambda l: Rating(int(l[0]), int(l[1]), float(l[2])))"
   ]
  },
  {
   "cell_type": "code",
   "execution_count": 16,
   "metadata": {
    "scrolled": false
   },
   "outputs": [
    {
     "data": {
      "text/plain": [
       "[Rating(user=1, product=1, rating=15177.0),\n",
       " Rating(user=7, product=1, rating=3.0),\n",
       " Rating(user=18, product=1, rating=9.0),\n",
       " Rating(user=21, product=1, rating=6.0),\n",
       " Rating(user=23, product=1, rating=1.0),\n",
       " Rating(user=25, product=1, rating=22.0),\n",
       " Rating(user=47, product=1, rating=364.0),\n",
       " Rating(user=0, product=1, rating=1.0),\n",
       " Rating(user=12, product=1, rating=67.0),\n",
       " Rating(user=16, product=1, rating=116.0)]"
      ]
     },
     "execution_count": 16,
     "metadata": {},
     "output_type": "execute_result"
    }
   ],
   "source": [
    "userartist.take(10)"
   ]
  },
  {
   "cell_type": "markdown",
   "metadata": {},
   "source": [
    "Four parameters will influence the performance of the model, including rank, interation, lambda, and alpha. \n",
    "\n",
    "* **rank** is the number of features to use (also referred to as the number of latent factors).\n",
    "* **iterations** is the number of iterations of ALS to run. ALS typically converges to a reasonable solution in 20 iterations or less.\n",
    "* **lambda** specifies the regularization parameter in ALS.\n",
    "* **alpha** is a parameter applicable to the implicit feedback variant of ALS that governs the baseline confidence in preference observations."
   ]
  },
  {
   "cell_type": "code",
   "execution_count": 17,
   "metadata": {},
   "outputs": [],
   "source": [
    "rank = 10\n",
    "iteration = 5\n",
    "lambda_ = 0.01\n",
    "alpha = 1.0"
   ]
  },
  {
   "cell_type": "markdown",
   "metadata": {},
   "source": [
    "Two ALS models are available in `spark.mllib`. One is the standard approach to matrix factorization based collaborative filtering. This method treats the entries in the user-item matrix as explicit preferences given by the user to the item, for example, users giving ratings to movies.\n",
    "\n",
    "It is common in many real-world use cases to only have access to implicit feedback (e.g. views, clicks, purchases, likes, shares etc.). The approach used in `spark.mllib` to deal with such data is taken from Collaborative Filtering for Implicit Feedback Datasets. Essentially, instead of trying to model the matrix of ratings directly, this approach treats the data as numbers representing the strength in observations of user actions (such as the number of clicks, or the cumulative duration someone spent viewing a movie). Those numbers are then related to the level of confidence in observed user preferences, rather than explicit ratings given to items. The model then tries to find latent factors that can be used to predict the expected preference of a user for an item.\n",
    "\n",
    "In the former case, it is suggested to use the `ALS.train` function to train the model; in the latter case, it is suggested to use the `ALS.trainImplicit` function to train the model."
   ]
  },
  {
   "cell_type": "code",
   "execution_count": 18,
   "metadata": {},
   "outputs": [],
   "source": [
    "model = ALS.trainImplicit(userartist, rank=rank, iterations=iteration,lambda_=lambda_,alpha=alpha)"
   ]
  },
  {
   "cell_type": "code",
   "execution_count": 19,
   "metadata": {},
   "outputs": [],
   "source": [
    "userartist4prediction = userartist.map(lambda x: (x[0], x[1]))\n",
    "predictions = model.predictAll(userartist4prediction).map(lambda r: ((r[0], r[1]), r[2]))"
   ]
  },
  {
   "cell_type": "code",
   "execution_count": 20,
   "metadata": {
    "scrolled": true
   },
   "outputs": [
    {
     "data": {
      "text/plain": [
       "[((9, 4904), 0.7480419721892768),\n",
       " ((9, 18624), 0.6858364748781163),\n",
       " ((19, 9200), 0.7905168770163249),\n",
       " ((16, 16408), 1.0066523448246976),\n",
       " ((48, 16408), 0.9253115167053222),\n",
       " ((9, 16408), 1.1027148221016088),\n",
       " ((34, 16408), 0.647037422525083),\n",
       " ((18, 16408), 0.6808103485507488),\n",
       " ((26, 16408), 1.1176582746972676),\n",
       " ((13, 16408), 0.5702556075150521)]"
      ]
     },
     "execution_count": 20,
     "metadata": {},
     "output_type": "execute_result"
    }
   ],
   "source": [
    "predictions.take(10)"
   ]
  },
  {
   "cell_type": "markdown",
   "metadata": {},
   "source": [
    "We will map the predictions to the original plays to evaluate our model."
   ]
  },
  {
   "cell_type": "code",
   "execution_count": 22,
   "metadata": {},
   "outputs": [],
   "source": [
    "rates_and_preds = userartist.map(lambda r: ((int(r[0]), int(r[1])), float(r[2]))).join(predictions)"
   ]
  },
  {
   "cell_type": "markdown",
   "metadata": {},
   "source": [
    "The four columns in rates_and_preds include user ID, artist ID, number of plays, and the predicted results."
   ]
  },
  {
   "cell_type": "code",
   "execution_count": 23,
   "metadata": {
    "scrolled": true
   },
   "outputs": [
    {
     "data": {
      "text/plain": [
       "[((7, 1), (3.0, 1.445892974824985)),\n",
       " ((4, 184), (1487.0, 1.0140836288565107)),\n",
       " ((26, 184), (97.0, 1.1491636704064594)),\n",
       " ((46, 34), (110.0, 0.9458580007784194)),\n",
       " ((49, 197), (33.0, 0.9631232049558082))]"
      ]
     },
     "execution_count": 23,
     "metadata": {},
     "output_type": "execute_result"
    }
   ],
   "source": [
    "rates_and_preds.take(5)"
   ]
  },
  {
   "cell_type": "markdown",
   "metadata": {},
   "source": [
    "The predict_user function will create a plot comparing the predicted ratings and the original values. The plot will also be saved as a .png file."
   ]
  },
  {
   "cell_type": "code",
   "execution_count": 24,
   "metadata": {},
   "outputs": [],
   "source": [
    "def predict_user(user_id):\n",
    "    user2pred = users.filter(lambda x: x[0] == user_id)\n",
    "    user_index = user2pred.collect()[0][1]\n",
    "    obs_pred = rates_and_preds.filter(lambda x: x[0][0] == user_index).map(lambda x: (x[1][0], x[1][1]))\n",
    "    x = obs_pred.map(lambda x:x[0]).collect()\n",
    "    y = obs_pred.map(lambda x:x[1]).collect()\n",
    "    plt.scatter(x, y, marker='x', s=12)\n",
    "    plt.title('user: {0}'.format(user_id))\n",
    "    plt.xlabel('real ratings (logscale)')\n",
    "    plt.ylabel('predictions')\n",
    "\n",
    "    plt.xscale('log')\n",
    "    plt.savefig('{0}.png'.format(user_id))"
   ]
  },
  {
   "cell_type": "code",
   "execution_count": 25,
   "metadata": {
    "scrolled": true
   },
   "outputs": [
    {
     "data": {
      "image/png": "[encoded data removed]",
      "text/plain": [
       "<matplotlib.figure.Figure at 0x88462e8>"
      ]
     },
     "metadata": {},
     "output_type": "display_data"
    }
   ],
   "source": [
    "predict_user('1059637')"
   ]
  },
  {
   "cell_type": "code",
   "execution_count": 26,
   "metadata": {
    "scrolled": true
   },
   "outputs": [
    {
     "data": {
      "image/png": "[encoded data removed]",
      "text/plain": [
       "<matplotlib.figure.Figure at 0x92beef0>"
      ]
     },
     "metadata": {},
     "output_type": "display_data"
    }
   ],
   "source": [
    "predict_user('2069337')"
   ]
  },
  {
   "cell_type": "markdown",
   "metadata": {},
   "source": [
    "Generally, artists that has lower plays yield lower predictions, and the ones with more plays shows higher predictions. However, this is only a visual comparison. A good way to quantitatively assess the model is to calculate the Mean Squared Error (MSE)."
   ]
  },
  {
   "cell_type": "code",
   "execution_count": 27,
   "metadata": {},
   "outputs": [],
   "source": [
    "def getmse(model, data):\n",
    "    data_for_predict = data.map(lambda x:(x[0], x[1]))\n",
    "    predictions = model.predictAll(data_for_predict).map(lambda x: ((x[0], x[1]), x[2]))\n",
    "    rates_and_preds = data.map(lambda x: ((int(x[0]), int(x[1])), float(x[2]))).join(predictions)\n",
    "    mse = rates_and_preds.map(lambda x:(x[1][0] - x[1][1])**2).mean()\n",
    "    return mse"
   ]
  },
  {
   "cell_type": "markdown",
   "metadata": {},
   "source": [
    "We will split the data 9:1 into the training and testing set, and using the function above to produce the mse to assess the performance of the ALS model. "
   ]
  },
  {
   "cell_type": "code",
   "execution_count": 28,
   "metadata": {},
   "outputs": [
    {
     "name": "stdout",
     "output_type": "stream",
     "text": [
      "Mean Squared Error = 570414.5683493328\n"
     ]
    }
   ],
   "source": [
    "rdd_train, rdd_test = userartist.randomSplit([9, 1])\n",
    "model = ALS.trainImplicit(rdd_train, rank=rank, iterations=iteration,lambda_=lambda_,alpha=alpha)\n",
    "mse = getmse(model, rdd_test)\n",
    "print(\"Mean Squared Error = {0}\".format(mse))"
   ]
  },
  {
   "cell_type": "markdown",
   "metadata": {},
   "source": [
    "We can also tune the parameters using the cross-validation. Below is an example."
   ]
  },
  {
   "cell_type": "code",
   "execution_count": 29,
   "metadata": {},
   "outputs": [],
   "source": [
    "ranks = [10, 50]\n",
    "lambda_s = [1.0, 0.0001]\n",
    "alphas = [1.0, 40.0]\n",
    "interation = 10"
   ]
  },
  {
   "cell_type": "code",
   "execution_count": 30,
   "metadata": {},
   "outputs": [
    {
     "name": "stdout",
     "output_type": "stream",
     "text": [
      "best parameters: rank = 10, lambda = 0.0001, alpha = 1.0\n",
      "minimum mse: 570425.4738342189\n"
     ]
    }
   ],
   "source": [
    "min_mse = np.inf\n",
    "best_rank = 0\n",
    "best_lambda_ = 0\n",
    "best_alpha = 0\n",
    "\n",
    "for rank in ranks:\n",
    "    for lambda_ in lambda_s:\n",
    "        for alpha in alphas:\n",
    "            model = ALS.trainImplicit(rdd_train, rank=rank, iterations=iteration,lambda_=lambda_,alpha=alpha)\n",
    "            mse = getmse(model, rdd_test)\n",
    "            if mse < min_mse:\n",
    "                min_mse = mse\n",
    "                best_rank = rank\n",
    "                best_lambda_ = lambda_\n",
    "                best_alpha = alpha\n",
    "print(\"best parameters: rank = {0}, lambda = {1}, alpha = {2}\".format(best_rank, best_lambda_, best_alpha))\n",
    "print(\"minimum mse: {0}\".format(min_mse))"
   ]
  },
  {
   "cell_type": "code",
   "execution_count": null,
   "metadata": {},
   "outputs": [],
   "source": []
  }
 ],
 "metadata": {
  "kernelspec": {
   "display_name": "Python 3",
   "language": "python",
   "name": "python3"
  },
  "language_info": {
   "codemirror_mode": {
    "name": "ipython",
    "version": 3
   },
   "file_extension": ".py",
   "mimetype": "text/x-python",
   "name": "python",
   "nbconvert_exporter": "python",
   "pygments_lexer": "ipython3",
   "version": "3.6.4"
  }
 },
 "nbformat": 4,
 "nbformat_minor": 2
}
